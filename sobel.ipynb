{
 "cells": [
  {
   "cell_type": "code",
   "execution_count": null,
   "metadata": {},
   "outputs": [
    {
     "ename": "error",
     "evalue": "OpenCV(4.11.0) /Users/xperience/GHA-Actions-OpenCV/_work/opencv-python/opencv-python/opencv/modules/imgproc/src/smooth.dispatch.cpp:618: error: (-215:Assertion failed) !_src.empty() in function 'GaussianBlur'\n",
     "output_type": "error",
     "traceback": [
      "\u001b[0;31m---------------------------------------------------------------------------\u001b[0m",
      "\u001b[0;31merror\u001b[0m                                     Traceback (most recent call last)",
      "Cell \u001b[0;32mIn[1], line 9\u001b[0m\n\u001b[1;32m      6\u001b[0m image \u001b[38;5;241m=\u001b[39m cv2\u001b[38;5;241m.\u001b[39mimread(\u001b[38;5;124m'\u001b[39m\u001b[38;5;124mplateText.jpg\u001b[39m\u001b[38;5;124m'\u001b[39m)\n\u001b[1;32m      8\u001b[0m \u001b[38;5;66;03m# Blur before hsv\u001b[39;00m\n\u001b[0;32m----> 9\u001b[0m blurred_image \u001b[38;5;241m=\u001b[39m \u001b[43mcv2\u001b[49m\u001b[38;5;241;43m.\u001b[39;49m\u001b[43mGaussianBlur\u001b[49m\u001b[43m(\u001b[49m\u001b[43mimage\u001b[49m\u001b[43m,\u001b[49m\u001b[43m \u001b[49m\u001b[43m(\u001b[49m\u001b[38;5;241;43m11\u001b[39;49m\u001b[43m,\u001b[49m\u001b[43m \u001b[49m\u001b[38;5;241;43m11\u001b[39;49m\u001b[43m)\u001b[49m\u001b[43m,\u001b[49m\u001b[43m \u001b[49m\u001b[38;5;241;43m0\u001b[39;49m\u001b[43m)\u001b[49m\n\u001b[1;32m     11\u001b[0m \u001b[38;5;66;03m# Convert to HSV for better color segmentation\u001b[39;00m\n\u001b[1;32m     12\u001b[0m hsv \u001b[38;5;241m=\u001b[39m cv2\u001b[38;5;241m.\u001b[39mcvtColor(blurred_image, cv2\u001b[38;5;241m.\u001b[39mCOLOR_BGR2HSV)\n",
      "\u001b[0;31merror\u001b[0m: OpenCV(4.11.0) /Users/xperience/GHA-Actions-OpenCV/_work/opencv-python/opencv-python/opencv/modules/imgproc/src/smooth.dispatch.cpp:618: error: (-215:Assertion failed) !_src.empty() in function 'GaussianBlur'\n"
     ]
    }
   ],
   "source": [
    "import cv2\n",
    "import numpy as np\n",
    "import matplotlib.pyplot as plt\n",
    "\n",
    "# Load the image\n",
    "image = cv2.imread('a.jpg')\n",
    "\n",
    "# Blur before hsv\n",
    "blurred_image = cv2.GaussianBlur(image, (11, 11), 0)\n",
    "\n",
    "# Convert to HSV for better color segmentation\n",
    "hsv = cv2.cvtColor(blurred_image, cv2.COLOR_BGR2HSV)\n",
    "\n",
    "# Define range for black color only\n",
    "lower_black = np.array([0, 0, 0])\n",
    "upper_black = np.array([180, 255, 50])\n",
    "\n",
    "# Create mask for black colors\n",
    "black_mask = cv2.inRange(hsv, lower_black, upper_black)\n",
    "\n",
    "# Apply morphological operations to clean up the mask\n",
    "kernel = np.ones((3,3), np.uint8)\n",
    "cleaned = cv2.morphologyEx(black_mask, cv2.MORPH_CLOSE, kernel)\n",
    "\n",
    "# Filter by contour area to keep only the large JALISCO letters\n",
    "contours, _ = cv2.findContours(cleaned, cv2.RETR_EXTERNAL, cv2.CHAIN_APPROX_SIMPLE)\n",
    "result_mask = np.zeros_like(cleaned)\n",
    "\n",
    "min_area = 1000  # Adjust this threshold based on the size of the letters\n",
    "for contour in contours:\n",
    "    area = cv2.contourArea(contour)\n",
    "    if area > min_area:\n",
    "        cv2.drawContours(result_mask, [contour], -1, 255, -1)\n",
    "\n",
    "# Create final result\n",
    "result = cv2.bitwise_and(image, image, mask=result_mask)\n",
    "\n",
    "# Convert background to white where mask is 0\n",
    "white_background = np.ones_like(image) * 255\n",
    "result = np.where(result_mask[:,:,np.newaxis] == 0, white_background, result)\n",
    "\n",
    "# Display and save the result\n",
    "plt.figure(figsize=(10, 6))\n",
    "plt.imshow(cv2.cvtColor(result, cv2.COLOR_BGR2RGB))\n",
    "plt.title('Extracted JALISCO Text')\n",
    "plt.axis('off')\n",
    "plt.show()\n",
    "\n",
    "cv2.imwrite('extractedPlate.jpg', result)"
   ]
  },
  {
   "cell_type": "code",
   "execution_count": 4,
   "metadata": {},
   "outputs": [
    {
     "name": "stdout",
     "output_type": "stream",
     "text": [
      "Extracted Text:\n",
      "JALISCO\n",
      "\n"
     ]
    }
   ],
   "source": [
    "# Perform OCR on the processed image\n",
    "import cv2\n",
    "import matplotlib.pyplot as plt\n",
    "import pytesseract\n",
    "import os\n",
    "\n",
    "os.environ['TESSDATA_PREFIX'] = '/opt/homebrew/Cellar/tesseract/5.5.0_1/share/tessdata'\n",
    "\n",
    "result = cv2.imread('extractedPlate.jpg')\n",
    "\n",
    "text = pytesseract.image_to_string(result, lang='spa')  # Use 'spa' for Spanish text\n",
    "print(\"Extracted Text:\")\n",
    "print(text)"
   ]
  },
  {
   "cell_type": "code",
   "execution_count": null,
   "metadata": {},
   "outputs": [],
   "source": []
  }
 ],
 "metadata": {
  "kernelspec": {
   "display_name": "Python 3 (ipykernel)",
   "language": "python",
   "name": "python3"
  },
  "language_info": {
   "codemirror_mode": {
    "name": "ipython",
    "version": 3
   },
   "file_extension": ".py",
   "mimetype": "text/x-python",
   "name": "python",
   "nbconvert_exporter": "python",
   "pygments_lexer": "ipython3",
   "version": "3.9.6"
  }
 },
 "nbformat": 4,
 "nbformat_minor": 4
}
